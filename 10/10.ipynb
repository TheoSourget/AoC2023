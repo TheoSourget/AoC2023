{
 "cells": [
  {
   "cell_type": "markdown",
   "metadata": {},
   "source": [
    "## Part 1"
   ]
  },
  {
   "cell_type": "code",
   "execution_count": 39,
   "metadata": {},
   "outputs": [],
   "source": [
    "import numpy as np\n",
    "from shapely.geometry import Point\n",
    "from shapely.geometry.polygon import Polygon\n",
    "from shapely import get_interior_ring"
   ]
  },
  {
   "cell_type": "code",
   "execution_count": 7,
   "metadata": {},
   "outputs": [],
   "source": [
    "map = []\n",
    "with open(\"input\") as input_file:\n",
    "    for l in input_file.readlines():\n",
    "        line = [c for c in l.removesuffix(\"\\n\")]\n",
    "        map.append(line)\n",
    "map = np.array(map)"
   ]
  },
  {
   "cell_type": "code",
   "execution_count": 8,
   "metadata": {},
   "outputs": [],
   "source": [
    "def is_connected(node1,node2):\n",
    "    pipes = {\n",
    "        \"|\":[(-1,0),(1,0)],\n",
    "        \"-\":[(0,-1),(0,1)],\n",
    "        \"L\":[(-1,0),(0,1)],\n",
    "        \"J\":[(-1,0),(0,-1)],\n",
    "        \"7\":[(1,0),(0,-1)],\n",
    "        \"F\":[(1,0),(0,1)],\n",
    "        \".\":[(None,None)],\n",
    "        \"S\":[(None,None)]\n",
    "    }\n",
    "    \n",
    "    coord_n1 = node1[1]\n",
    "    coord_n2 = node2[1]\n",
    "    linked_n1 = False\n",
    "    for dir in pipes[node1[0]]:\n",
    "        if node1[0] == \"S\":\n",
    "            linked_n1 = True\n",
    "        elif node1[0] == \".\":\n",
    "            linked_n1 = False\n",
    "        elif (coord_n1[0]+dir[0],coord_n1[1]+dir[1]) == coord_n2:\n",
    "            linked_n1 = True\n",
    "\n",
    "\n",
    "\n",
    "    linked_n2 = False\n",
    "    for dir in pipes[node2[0]]:\n",
    "        if node2[0] == \"S\":\n",
    "            continue\n",
    "        elif node2[0] == \".\":\n",
    "            linked_n2 = False\n",
    "        elif (coord_n2[0]+dir[0],coord_n2[1]+dir[1]) == coord_n1:\n",
    "            linked_n2 = True\n",
    "\n",
    "    return linked_n1&linked_n2"
   ]
  },
  {
   "cell_type": "code",
   "execution_count": 9,
   "metadata": {},
   "outputs": [],
   "source": [
    "new_neighbor = True\n",
    "current_node = [\"S\",(np.where(map == \"S\")[0][0],np.where(map == \"S\")[1][0])]\n",
    "distance = 0\n",
    "distances = {current_node[1]:distance}\n",
    "while new_neighbor:\n",
    "    new_neighbor = False\n",
    "    neighbors = []\n",
    "    distance += 1\n",
    "    current_coord = current_node[1]\n",
    "    node2_coord = (max(0,current_coord[0]-1),current_coord[1])\n",
    "    node2 = [map[node2_coord],node2_coord]\n",
    "    neighbors.append(node2)\n",
    "    \n",
    "    node2_coord = (min(map.shape[0],current_coord[0]+1),current_coord[1])\n",
    "    node2 = [map[node2_coord],node2_coord]\n",
    "    neighbors.append(node2)\n",
    "\n",
    "\n",
    "    node2_coord = (current_coord[0],max(0,current_coord[1]-1))\n",
    "    node2 = [map[node2_coord],node2_coord]\n",
    "    neighbors.append(node2)\n",
    "\n",
    "    node2_coord = (current_coord[0],min(map.shape[1],current_coord[1]+1))\n",
    "    node2 = [map[node2_coord],node2_coord]\n",
    "    neighbors.append(node2)\n",
    "    \n",
    "    for n in neighbors:\n",
    "        if (is_connected(current_node,n)) and not (n[1] in distances):\n",
    "            distances[n[1]] = distance\n",
    "            current_node = n\n",
    "            new_neighbor = True\n",
    "            break"
   ]
  },
  {
   "cell_type": "code",
   "execution_count": 10,
   "metadata": {},
   "outputs": [
    {
     "data": {
      "text/plain": [
       "6927.0"
      ]
     },
     "execution_count": 10,
     "metadata": {},
     "output_type": "execute_result"
    }
   ],
   "source": [
    "(max(list(distances.values()))+1)/2"
   ]
  },
  {
   "cell_type": "markdown",
   "metadata": {},
   "source": [
    "## Part 2"
   ]
  },
  {
   "cell_type": "code",
   "execution_count": 96,
   "metadata": {},
   "outputs": [],
   "source": [
    "map = []\n",
    "with open(\"input\") as input_file:\n",
    "    for l in input_file.readlines():\n",
    "        line = [c for c in l.removesuffix(\"\\n\")]\n",
    "        map.append(line)\n",
    "map = np.array(map)"
   ]
  },
  {
   "cell_type": "code",
   "execution_count": 97,
   "metadata": {},
   "outputs": [],
   "source": [
    "new_neighbor = True\n",
    "current_node = [\"S\",(np.where(map == \"S\")[0][0],np.where(map == \"S\")[1][0])]\n",
    "distance = 0\n",
    "distances = {current_node[1]:distance}\n",
    "while new_neighbor:\n",
    "    new_neighbor = False\n",
    "    neighbors = []\n",
    "    distance += 1\n",
    "    current_coord = current_node[1]\n",
    "    node2_coord = (max(0,current_coord[0]-1),current_coord[1])\n",
    "    node2 = [map[node2_coord],node2_coord]\n",
    "    neighbors.append(node2)\n",
    "    \n",
    "    node2_coord = (min(map.shape[0]-1,current_coord[0]+1),current_coord[1])\n",
    "    node2 = [map[node2_coord],node2_coord]\n",
    "    neighbors.append(node2)\n",
    "\n",
    "\n",
    "    node2_coord = (current_coord[0],max(0,current_coord[1]-1))\n",
    "    node2 = [map[node2_coord],node2_coord]\n",
    "    neighbors.append(node2)\n",
    "\n",
    "    node2_coord = (current_coord[0],min(map.shape[1]-1,current_coord[1]+1))\n",
    "    node2 = [map[node2_coord],node2_coord]\n",
    "    neighbors.append(node2)\n",
    "    \n",
    "    for n in neighbors:\n",
    "        if (is_connected(current_node,n)) and not (n[1] in distances):\n",
    "            distances[n[1]] = distance\n",
    "            current_node = n\n",
    "            new_neighbor = True\n",
    "            break"
   ]
  },
  {
   "cell_type": "code",
   "execution_count": 101,
   "metadata": {},
   "outputs": [],
   "source": [
    "tiles = []\n",
    "loop = Polygon(list(distances.keys()))\n",
    "for i in range(map.shape[0]):\n",
    "    for j in range(map.shape[1]):\n",
    "        point = Point(i,j)\n",
    "        if loop.contains(point):\n",
    "            tiles.append((i,j))"
   ]
  },
  {
   "cell_type": "code",
   "execution_count": 102,
   "metadata": {},
   "outputs": [
    {
     "data": {
      "text/plain": [
       "467"
      ]
     },
     "execution_count": 102,
     "metadata": {},
     "output_type": "execute_result"
    }
   ],
   "source": [
    "len(tiles)"
   ]
  }
 ],
 "metadata": {
  "kernelspec": {
   "display_name": "PublicDataset",
   "language": "python",
   "name": "python3"
  },
  "language_info": {
   "codemirror_mode": {
    "name": "ipython",
    "version": 3
   },
   "file_extension": ".py",
   "mimetype": "text/x-python",
   "name": "python",
   "nbconvert_exporter": "python",
   "pygments_lexer": "ipython3",
   "version": "3.11.5"
  }
 },
 "nbformat": 4,
 "nbformat_minor": 2
}
