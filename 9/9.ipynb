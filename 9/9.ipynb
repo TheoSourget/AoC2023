{
 "cells": [
  {
   "cell_type": "markdown",
   "metadata": {},
   "source": [
    "## Part 1"
   ]
  },
  {
   "cell_type": "code",
   "execution_count": 17,
   "metadata": {},
   "outputs": [
    {
     "name": "stdout",
     "output_type": "stream",
     "text": [
      "1939607039\n"
     ]
    }
   ],
   "source": [
    "ret = 0\n",
    "with open(\"input\") as input_file:\n",
    "    for l in input_file.readlines():\n",
    "        hist_diff = []\n",
    "        line = [int(i) for i in l.removesuffix(\"\\n\").split(\" \")]\n",
    "        hist_diff.append(line)\n",
    "        ret += hist_diff[-1][-1]\n",
    "        while not all([v == 0 for v in hist_diff[-1]]):\n",
    "            hist_diff.append([hist_diff[-1][i+1]-hist_diff[-1][i] for i in range(len(hist_diff[-1])-1)])\n",
    "            ret += hist_diff[-1][-1]\n",
    "print(ret)"
   ]
  },
  {
   "cell_type": "markdown",
   "metadata": {},
   "source": [
    "## Part 2"
   ]
  },
  {
   "cell_type": "code",
   "execution_count": 51,
   "metadata": {},
   "outputs": [
    {
     "name": "stdout",
     "output_type": "stream",
     "text": [
      "2\n"
     ]
    }
   ],
   "source": [
    "ret = 0\n",
    "with open(\"input\") as input_file:\n",
    "    for l in input_file.readlines():\n",
    "        extra = 0\n",
    "        extras = []\n",
    "        hist_diff = []\n",
    "        line = [int(i) for i in l.removesuffix(\"\\n\").split(\" \")]\n",
    "        hist_diff.append(line)\n",
    "        while not all([v == 0 for v in hist_diff[-1]]):\n",
    "            hist_diff.append([hist_diff[-1][i+1]-hist_diff[-1][i] for i in range(len(hist_diff[-1])-1)])\n",
    "\n",
    "        for i in range(len(hist_diff)-1,-1,-1): \n",
    "            extra = hist_diff[i][0] - extra\n",
    "            extras.append(extra)\n",
    "        ret = ret + extra\n",
    "print(ret)"
   ]
  },
  {
   "cell_type": "code",
   "execution_count": 37,
   "metadata": {},
   "outputs": [
    {
     "data": {
      "text/plain": [
       "[3, 3, 5, 9, 15]"
      ]
     },
     "execution_count": 37,
     "metadata": {},
     "output_type": "execute_result"
    }
   ],
   "source": [
    "hist_diff[-4]"
   ]
  }
 ],
 "metadata": {
  "kernelspec": {
   "display_name": "PublicDataset",
   "language": "python",
   "name": "python3"
  },
  "language_info": {
   "codemirror_mode": {
    "name": "ipython",
    "version": 3
   },
   "file_extension": ".py",
   "mimetype": "text/x-python",
   "name": "python",
   "nbconvert_exporter": "python",
   "pygments_lexer": "ipython3",
   "version": "3.12.0"
  }
 },
 "nbformat": 4,
 "nbformat_minor": 2
}
