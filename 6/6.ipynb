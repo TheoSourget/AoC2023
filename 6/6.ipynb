{
 "cells": [
  {
   "cell_type": "markdown",
   "metadata": {},
   "source": [
    "## Part 1"
   ]
  },
  {
   "cell_type": "code",
   "execution_count": 14,
   "metadata": {},
   "outputs": [
    {
     "name": "stdout",
     "output_type": "stream",
     "text": [
      "[40, 70, 98, 79]\n",
      "[215, 1051, 2147, 1005]\n",
      "1084752\n"
     ]
    }
   ],
   "source": [
    "with open(\"input\") as input_file:\n",
    "    times = [int(i) for i in input_file.readline().removesuffix('\\n').split(\" \") if i.isnumeric()]\n",
    "    records = [int(i) for i in input_file.readline().removesuffix('\\n').split(\" \") if i.isnumeric()]\n",
    "print(times)\n",
    "print(records)\n",
    "\n",
    "ret = None\n",
    "for t,r in zip(times,records):\n",
    "    nb_victory = 0\n",
    "    for i in range(t):\n",
    "        distance = i*(t-i)\n",
    "        if distance > r:\n",
    "            nb_victory += 1\n",
    "    if ret:\n",
    "        ret *= nb_victory\n",
    "    else:\n",
    "        ret = nb_victory\n",
    "print(ret)"
   ]
  },
  {
   "cell_type": "markdown",
   "metadata": {},
   "source": [
    "## Part 2"
   ]
  },
  {
   "cell_type": "code",
   "execution_count": 18,
   "metadata": {},
   "outputs": [
    {
     "name": "stdout",
     "output_type": "stream",
     "text": [
      "40709879\n",
      "215105121471005\n",
      "28228952\n"
     ]
    }
   ],
   "source": [
    "with open(\"input\") as input_file:\n",
    "    time = int(\"\".join([i for i in input_file.readline().removesuffix('\\n').split(\" \") if i.isnumeric()]))\n",
    "    record = int(\"\".join([i for i in input_file.readline().removesuffix('\\n').split(\" \") if i.isnumeric()]))\n",
    "print(times)\n",
    "print(records)\n",
    "\n",
    "nb_victory = 0\n",
    "for i in range(time):\n",
    "    distance = i*(time-i)\n",
    "    if distance > record:\n",
    "        nb_victory += 1\n",
    "\n",
    "print(nb_victory)"
   ]
  }
 ],
 "metadata": {
  "kernelspec": {
   "display_name": "PublicDataset",
   "language": "python",
   "name": "python3"
  },
  "language_info": {
   "codemirror_mode": {
    "name": "ipython",
    "version": 3
   },
   "file_extension": ".py",
   "mimetype": "text/x-python",
   "name": "python",
   "nbconvert_exporter": "python",
   "pygments_lexer": "ipython3",
   "version": "3.12.0"
  }
 },
 "nbformat": 4,
 "nbformat_minor": 2
}
