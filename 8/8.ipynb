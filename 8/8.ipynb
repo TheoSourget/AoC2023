{
 "cells": [
  {
   "cell_type": "markdown",
   "metadata": {},
   "source": [
    "## Part 1"
   ]
  },
  {
   "cell_type": "code",
   "execution_count": 1,
   "metadata": {},
   "outputs": [
    {
     "name": "stdout",
     "output_type": "stream",
     "text": [
      "21797\n"
     ]
    }
   ],
   "source": [
    "from ast import literal_eval\n",
    "dict_place = {}\n",
    "with open(\"input\") as input_file:\n",
    "    instruction = input_file.readline().removesuffix(\"\\n\")\n",
    "    instruction = [1 if c ==\"R\" else 0 for c in instruction]\n",
    "    for l in input_file.readlines():\n",
    "        l = l.removesuffix(\"\\n\")\n",
    "        if l:\n",
    "            place,direction = l.removesuffix(\"\\n\").split(\" = \")\n",
    "            dict_place[place] = (direction[1:4],direction[6:-1])\n",
    "\n",
    "current_place = 'AAA'\n",
    "nb_move = 0\n",
    "while current_place != \"ZZZ\":\n",
    "    current_place = dict_place[current_place][instruction[nb_move%(len(instruction))]]\n",
    "    nb_move += 1\n",
    "print(nb_move)"
   ]
  },
  {
   "cell_type": "markdown",
   "metadata": {},
   "source": [
    "## Part 2"
   ]
  },
  {
   "cell_type": "code",
   "execution_count": 88,
   "metadata": {},
   "outputs": [],
   "source": [
    "dict_place = {}\n",
    "with open(\"input\") as input_file:\n",
    "    instruction = input_file.readline().removesuffix(\"\\n\")\n",
    "    instruction = [1 if c ==\"R\" else 0 for c in instruction]\n",
    "    for l in input_file.readlines():\n",
    "        l = l.removesuffix(\"\\n\")\n",
    "        if l:\n",
    "            place,direction = l.removesuffix(\"\\n\").split(\" = \")\n",
    "            dict_place[place] = (direction[1:4],direction[6:-1])\n",
    "\n",
    "current_places = [k for k in list(dict_place.keys()) if k.endswith(\"A\")]\n",
    "nb_first_match = [0 for i in range(len(current_places))]\n",
    "\n",
    "for i in range(len(current_places)):\n",
    "    nb_move = 0\n",
    "    current_place = current_places[i]\n",
    "    while not current_place.endswith(\"Z\"):\n",
    "        current_place = dict_place[current_place][instruction[nb_move%(len(instruction))]]\n",
    "        nb_move += 1\n",
    "    nb_first_match[i] = nb_move"
   ]
  },
  {
   "cell_type": "code",
   "execution_count": 90,
   "metadata": {},
   "outputs": [
    {
     "data": {
      "text/plain": [
       "[18727, 24253, 18113, 22411, 21797, 16271]"
      ]
     },
     "execution_count": 90,
     "metadata": {},
     "output_type": "execute_result"
    }
   ],
   "source": [
    "nb_first_match"
   ]
  },
  {
   "cell_type": "code",
   "execution_count": 91,
   "metadata": {},
   "outputs": [
    {
     "data": {
      "text/plain": [
       "23977527174353"
      ]
     },
     "execution_count": 91,
     "metadata": {},
     "output_type": "execute_result"
    }
   ],
   "source": [
    "import math\n",
    "lcm = math.lcm(*nb_first_match)\n",
    "lcm"
   ]
  }
 ],
 "metadata": {
  "kernelspec": {
   "display_name": "PublicDataset",
   "language": "python",
   "name": "python3"
  },
  "language_info": {
   "codemirror_mode": {
    "name": "ipython",
    "version": 3
   },
   "file_extension": ".py",
   "mimetype": "text/x-python",
   "name": "python",
   "nbconvert_exporter": "python",
   "pygments_lexer": "ipython3",
   "version": "3.12.0"
  }
 },
 "nbformat": 4,
 "nbformat_minor": 2
}
