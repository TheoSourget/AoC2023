{
 "cells": [
  {
   "cell_type": "markdown",
   "metadata": {},
   "source": [
    "## Part 1"
   ]
  },
  {
   "cell_type": "code",
   "execution_count": 34,
   "metadata": {},
   "outputs": [
    {
     "data": {
      "text/plain": [
       "23441"
      ]
     },
     "execution_count": 34,
     "metadata": {},
     "output_type": "execute_result"
    }
   ],
   "source": [
    "sum_points = 0\n",
    "with open(\"input\") as input_file:\n",
    "    for i,l in enumerate(input_file.readlines()):\n",
    "        line = l.split(\":\")[1]\n",
    "        winning_numbers = line.split(\"|\")[0].strip()\n",
    "        winning_numbers = winning_numbers.split(\" \")\n",
    "        winning_numbers = [int(w) for w in winning_numbers if w != \"\"]\n",
    "\n",
    "        played_numbers = line.split(\"|\")[1].strip()\n",
    "        played_numbers = played_numbers.split(\" \")\n",
    "        played_numbers = [int(w) for w in played_numbers if w != \"\"]\n",
    "\n",
    "        nb_match = 0\n",
    "        for n in played_numbers:\n",
    "            if n in winning_numbers:\n",
    "                nb_match +=1\n",
    "        if nb_match != 0:\n",
    "            sum_points += 2**(nb_match-1)\n",
    "sum_points"
   ]
  },
  {
   "cell_type": "markdown",
   "metadata": {},
   "source": [
    "## Part 2"
   ]
  },
  {
   "cell_type": "code",
   "execution_count": 45,
   "metadata": {},
   "outputs": [
    {
     "data": {
      "text/plain": [
       "5923918"
      ]
     },
     "execution_count": 45,
     "metadata": {},
     "output_type": "execute_result"
    }
   ],
   "source": [
    "import collections\n",
    "nb_cards = collections.Counter()\n",
    "match_per_card = []\n",
    "total_number_of_card = []\n",
    "with open(\"input\") as input_file:\n",
    "    for i,l in enumerate(input_file.readlines()):\n",
    "        line = l.split(\":\")[1]\n",
    "        winning_numbers = line.split(\"|\")[0].strip()\n",
    "        winning_numbers = winning_numbers.split(\" \")\n",
    "        winning_numbers = [int(w) for w in winning_numbers if w != \"\"]\n",
    "\n",
    "        played_numbers = line.split(\"|\")[1].strip()\n",
    "        played_numbers = played_numbers.split(\" \")\n",
    "        played_numbers = [int(w) for w in played_numbers if w != \"\"]\n",
    "\n",
    "        nb_match = 0\n",
    "        for n in played_numbers:\n",
    "            if n in winning_numbers:\n",
    "                nb_match +=1\n",
    "        \n",
    "        match_per_card.append(nb_match)\n",
    "        total_number_of_card.append(1)\n",
    "\n",
    "i = 0\n",
    "while i < len(match_per_card):\n",
    "    for j in range(total_number_of_card[i]):\n",
    "        for k in range(match_per_card[i]):\n",
    "            if i+k+1 < len(match_per_card):\n",
    "                total_number_of_card[i+k+1] += 1\n",
    "    i += 1\n",
    "sum(total_number_of_card)"
   ]
  }
 ],
 "metadata": {
  "kernelspec": {
   "display_name": "PublicDataset",
   "language": "python",
   "name": "python3"
  },
  "language_info": {
   "codemirror_mode": {
    "name": "ipython",
    "version": 3
   },
   "file_extension": ".py",
   "mimetype": "text/x-python",
   "name": "python",
   "nbconvert_exporter": "python",
   "pygments_lexer": "ipython3",
   "version": "3.12.0"
  }
 },
 "nbformat": 4,
 "nbformat_minor": 2
}
