{
 "cells": [
  {
   "cell_type": "markdown",
   "metadata": {},
   "source": [
    "## Part 1"
   ]
  },
  {
   "cell_type": "code",
   "execution_count": 3,
   "metadata": {},
   "outputs": [],
   "source": [
    "seeds = \"1778931867 1436999653 3684516104 2759374 1192793053 358764985 1698790056 76369598 3733854793 214008036 4054174000 171202266 3630057255 25954395 798587440 316327323 290129780 7039123 3334326492 246125391\".split(\" \")\n",
    "#seeds = \"79 14 55 13\".split(\" \")"
   ]
  },
  {
   "cell_type": "markdown",
   "metadata": {},
   "source": [
    "### Construct dict for each map"
   ]
  },
  {
   "cell_type": "code",
   "execution_count": 4,
   "metadata": {},
   "outputs": [],
   "source": [
    "def map_file_to_dict(filename):\n",
    "    res_dict = {}\n",
    "    with open(filename) as seed_file:\n",
    "        for l in seed_file.readlines():\n",
    "            destination_start, source_start, range_values = [int(v) for v in l.split(\" \")]\n",
    "            res_dict[int(source_start)]=(int(destination_start),int(range_values))\n",
    "    return res_dict\n",
    "\n",
    "def get_value(dict,value):\n",
    "    value=int(value)\n",
    "    res = value\n",
    "    for source_start in dict:\n",
    "        destination_start,range_values = dict[source_start]\n",
    "        if (value >= source_start) & (value < (source_start + range_values)):\n",
    "            #print(source_start,destination_start,range_values)\n",
    "            res = destination_start + (value-source_start)\n",
    "            break\n",
    "    return res\n",
    "seed_soil = map_file_to_dict(\"seed-to-soil\")\n",
    "soil_ferti = map_file_to_dict(\"soil-to-fertilizer\")\n",
    "ferti_water = map_file_to_dict(\"fertilizer-to-water\")\n",
    "water_light = map_file_to_dict(\"water-to-light\")\n",
    "light_temp = map_file_to_dict(\"light-to-temperature\")\n",
    "temp_humi = map_file_to_dict(\"temperature-to-humidity\")\n",
    "humi_loc = map_file_to_dict(\"humidity-to-location\")\n",
    "\n",
    "# seed_soil = map_file_to_dict(\"test_input/seed-to-soil\")\n",
    "# soil_ferti = map_file_to_dict(\"test_input/soil-to-fertilizer\")\n",
    "# ferti_water = map_file_to_dict(\"test_input/fertilizer-to-water\")\n",
    "# water_light = map_file_to_dict(\"test_input/water-to-light\")\n",
    "# light_temp = map_file_to_dict(\"test_input/light-to-temperature\")\n",
    "# temp_humi = map_file_to_dict(\"test_input/temperature-to-humidity\")\n",
    "# humi_loc = map_file_to_dict(\"test_input/humidity-to-location\")"
   ]
  },
  {
   "cell_type": "markdown",
   "metadata": {},
   "source": [
    "### Get localisation for each seed"
   ]
  },
  {
   "cell_type": "code",
   "execution_count": 5,
   "metadata": {},
   "outputs": [
    {
     "name": "stdout",
     "output_type": "stream",
     "text": [
      "107430936\n"
     ]
    }
   ],
   "source": [
    "lst_loc = []\n",
    "for seed in seeds:\n",
    "    soil = get_value(seed_soil,seed)\n",
    "    ferti = get_value(soil_ferti,soil)\n",
    "    water = get_value(ferti_water,ferti)\n",
    "    light = get_value(water_light,water)\n",
    "    temp = get_value(light_temp,light)\n",
    "    humi = get_value(temp_humi,temp)\n",
    "    loc = get_value(humi_loc,humi)\n",
    "    lst_loc.append(loc)\n",
    "print(min(lst_loc))"
   ]
  },
  {
   "cell_type": "markdown",
   "metadata": {},
   "source": [
    "## Part 2"
   ]
  },
  {
   "cell_type": "code",
   "execution_count": 8,
   "metadata": {},
   "outputs": [
    {
     "name": "stdout",
     "output_type": "stream",
     "text": [
      "0\n"
     ]
    },
    {
     "name": "stderr",
     "output_type": "stream",
     "text": [
      "  0%|          | 7007482/1436999653 [01:03<3:36:33, 110051.15it/s]\n"
     ]
    },
    {
     "ename": "KeyboardInterrupt",
     "evalue": "",
     "output_type": "error",
     "traceback": [
      "\u001b[0;31m---------------------------------------------------------------------------\u001b[0m",
      "\u001b[0;31mKeyboardInterrupt\u001b[0m                         Traceback (most recent call last)",
      "\u001b[1;32m/home/theo/AoC2023/5/5.ipynb Cell 8\u001b[0m line \u001b[0;36m1\n\u001b[1;32m     <a href='vscode-notebook-cell:/home/theo/AoC2023/5/5.ipynb#X10sZmlsZQ%3D%3D?line=10'>11</a>\u001b[0m water \u001b[39m=\u001b[39m get_value(ferti_water,ferti)\n\u001b[1;32m     <a href='vscode-notebook-cell:/home/theo/AoC2023/5/5.ipynb#X10sZmlsZQ%3D%3D?line=11'>12</a>\u001b[0m light \u001b[39m=\u001b[39m get_value(water_light,water)\n\u001b[0;32m---> <a href='vscode-notebook-cell:/home/theo/AoC2023/5/5.ipynb#X10sZmlsZQ%3D%3D?line=12'>13</a>\u001b[0m temp \u001b[39m=\u001b[39m get_value(light_temp,light)\n\u001b[1;32m     <a href='vscode-notebook-cell:/home/theo/AoC2023/5/5.ipynb#X10sZmlsZQ%3D%3D?line=13'>14</a>\u001b[0m humi \u001b[39m=\u001b[39m get_value(temp_humi,temp)\n\u001b[1;32m     <a href='vscode-notebook-cell:/home/theo/AoC2023/5/5.ipynb#X10sZmlsZQ%3D%3D?line=14'>15</a>\u001b[0m loc \u001b[39m=\u001b[39m get_value(humi_loc,humi)\n",
      "\u001b[1;32m/home/theo/AoC2023/5/5.ipynb Cell 8\u001b[0m line \u001b[0;36m1\n\u001b[1;32m     <a href='vscode-notebook-cell:/home/theo/AoC2023/5/5.ipynb#X10sZmlsZQ%3D%3D?line=11'>12</a>\u001b[0m \u001b[39mfor\u001b[39;00m source_start \u001b[39min\u001b[39;00m \u001b[39mdict\u001b[39m:\n\u001b[1;32m     <a href='vscode-notebook-cell:/home/theo/AoC2023/5/5.ipynb#X10sZmlsZQ%3D%3D?line=12'>13</a>\u001b[0m     destination_start,range_values \u001b[39m=\u001b[39m \u001b[39mdict\u001b[39m[source_start]\n\u001b[0;32m---> <a href='vscode-notebook-cell:/home/theo/AoC2023/5/5.ipynb#X10sZmlsZQ%3D%3D?line=13'>14</a>\u001b[0m     \u001b[39mif\u001b[39;00m (value \u001b[39m>\u001b[39m\u001b[39m=\u001b[39m source_start) \u001b[39m&\u001b[39m (value \u001b[39m<\u001b[39m (source_start \u001b[39m+\u001b[39m range_values)):\n\u001b[1;32m     <a href='vscode-notebook-cell:/home/theo/AoC2023/5/5.ipynb#X10sZmlsZQ%3D%3D?line=14'>15</a>\u001b[0m         \u001b[39m#print(source_start,destination_start,range_values)\u001b[39;00m\n\u001b[1;32m     <a href='vscode-notebook-cell:/home/theo/AoC2023/5/5.ipynb#X10sZmlsZQ%3D%3D?line=15'>16</a>\u001b[0m         res \u001b[39m=\u001b[39m destination_start \u001b[39m+\u001b[39m (value\u001b[39m-\u001b[39msource_start)\n\u001b[1;32m     <a href='vscode-notebook-cell:/home/theo/AoC2023/5/5.ipynb#X10sZmlsZQ%3D%3D?line=16'>17</a>\u001b[0m         \u001b[39mbreak\u001b[39;00m\n",
      "\u001b[0;31mKeyboardInterrupt\u001b[0m: "
     ]
    }
   ],
   "source": [
    "from tqdm import tqdm\n",
    "lst_loc = []\n",
    "i=0\n",
    "while i < len(seeds):\n",
    "    print(i)\n",
    "    locs_for_seed = []\n",
    "    init_seed,range_seed = int(seeds[i]),int(seeds[i+1])\n",
    "    for seed in tqdm(range(init_seed,init_seed+range_seed,1)):\n",
    "        soil = get_value(seed_soil,seed)\n",
    "        ferti = get_value(soil_ferti,soil)\n",
    "        water = get_value(ferti_water,ferti)\n",
    "        light = get_value(water_light,water)\n",
    "        temp = get_value(light_temp,light)\n",
    "        humi = get_value(temp_humi,temp)\n",
    "        loc = get_value(humi_loc,humi)\n",
    "        locs_for_seed.append(loc)\n",
    "        lst_loc.append(loc)\n",
    "    i += 2\n",
    "print(min(lst_loc))"
   ]
  }
 ],
 "metadata": {
  "kernelspec": {
   "display_name": "PublicDataset",
   "language": "python",
   "name": "python3"
  },
  "language_info": {
   "codemirror_mode": {
    "name": "ipython",
    "version": 3
   },
   "file_extension": ".py",
   "mimetype": "text/x-python",
   "name": "python",
   "nbconvert_exporter": "python",
   "pygments_lexer": "ipython3",
   "version": "3.12.0"
  }
 },
 "nbformat": 4,
 "nbformat_minor": 2
}
