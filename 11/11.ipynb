{
 "cells": [
  {
   "cell_type": "markdown",
   "metadata": {},
   "source": [
    "## Part 1"
   ]
  },
  {
   "cell_type": "code",
   "execution_count": 1,
   "metadata": {},
   "outputs": [],
   "source": [
    "import numpy as np"
   ]
  },
  {
   "cell_type": "code",
   "execution_count": 95,
   "metadata": {},
   "outputs": [],
   "source": [
    "galaxy = []\n",
    "with open(\"Testinput\") as input_file:\n",
    "    for l in input_file.readlines():\n",
    "        l = l.removesuffix('\\n')\n",
    "        galaxy.append([c for c in l])\n",
    "        if \"#\" not in l:\n",
    "            galaxy.append([c for c in l])\n",
    "\n",
    "galaxy = np.array(galaxy)\n",
    "nb_column = galaxy.shape[1]\n",
    "j = 0\n",
    "idx_new_column = 0\n",
    "while j < nb_column:\n",
    "    if \"#\" not in galaxy[:,idx_new_column]:\n",
    "        galaxy = np.insert(galaxy,idx_new_column,\".\",axis=1)\n",
    "        idx_new_column += 1\n",
    "    j += 1\n",
    "    idx_new_column += 1    "
   ]
  },
  {
   "cell_type": "code",
   "execution_count": 92,
   "metadata": {},
   "outputs": [],
   "source": [
    "xx,yy = np.where(galaxy==\"#\")\n",
    "stars = []\n",
    "for x,y in zip(xx,yy):\n",
    "    stars.append((x,y))\n",
    "\n",
    "distances = []\n",
    "for i in range(len(stars)):\n",
    "    star1 = stars[i]\n",
    "    for j in range(i+1,len(stars)):\n",
    "        star2 = stars[j]\n",
    "        distances.append(abs((star2[0] - star1[0])) + abs((star2[1] - star1[1])))"
   ]
  },
  {
   "cell_type": "code",
   "execution_count": 93,
   "metadata": {},
   "outputs": [
    {
     "data": {
      "text/plain": [
       "10231178"
      ]
     },
     "execution_count": 93,
     "metadata": {},
     "output_type": "execute_result"
    }
   ],
   "source": [
    "sum(distances)"
   ]
  },
  {
   "cell_type": "markdown",
   "metadata": {},
   "source": [
    "## Part 2"
   ]
  },
  {
   "cell_type": "code",
   "execution_count": 149,
   "metadata": {},
   "outputs": [],
   "source": [
    "import numpy as np"
   ]
  },
  {
   "cell_type": "code",
   "execution_count": 150,
   "metadata": {},
   "outputs": [],
   "source": [
    "galaxy = []\n",
    "empty_row = []\n",
    "with open(\"input\") as input_file:\n",
    "    for i,l in enumerate(input_file.readlines()):\n",
    "        l = l.removesuffix('\\n')\n",
    "        galaxy.append([c for c in l])\n",
    "        if \"#\" not in l:\n",
    "            empty_row.append(i)\n",
    "\n",
    "galaxy = np.array(galaxy)\n",
    "empty_column = []\n",
    "j = 0\n",
    "while j < galaxy.shape[1]:\n",
    "    if \"#\" not in galaxy[:,j]:\n",
    "        empty_column.append(j)\n",
    "    j += 1"
   ]
  },
  {
   "cell_type": "code",
   "execution_count": 151,
   "metadata": {},
   "outputs": [],
   "source": [
    "xx,yy = np.where(galaxy==\"#\")\n",
    "stars = []\n",
    "for x,y in zip(xx,yy):\n",
    "    stars.append((x,y))\n",
    "\n",
    "distances = []\n",
    "for i in range(len(stars)):\n",
    "    star1 = stars[i]\n",
    "    for j in range(i+1,len(stars)):\n",
    "        star2 = stars[j]\n",
    "        nb_empty_rows = [j in range(min(star2[0],star1[0]),max(star2[0],star1[0])) for j in empty_row]\n",
    "        nb_empty_columns = [j in range(min(star2[1],star1[1]),max(star2[1],star1[1])) for j in empty_column]\n",
    "        distances.append(abs((star2[0] - star1[0])) + abs((star2[1] - star1[1])) + (999999*sum(nb_empty_rows)) + (999999*sum(nb_empty_columns)))"
   ]
  },
  {
   "cell_type": "code",
   "execution_count": 152,
   "metadata": {},
   "outputs": [
    {
     "data": {
      "text/plain": [
       "622120986954"
      ]
     },
     "execution_count": 152,
     "metadata": {},
     "output_type": "execute_result"
    }
   ],
   "source": [
    "sum(distances)"
   ]
  }
 ],
 "metadata": {
  "kernelspec": {
   "display_name": "DataInTheWild",
   "language": "python",
   "name": "python3"
  },
  "language_info": {
   "codemirror_mode": {
    "name": "ipython",
    "version": 3
   },
   "file_extension": ".py",
   "mimetype": "text/x-python",
   "name": "python",
   "nbconvert_exporter": "python",
   "pygments_lexer": "ipython3",
   "version": "3.11.5"
  }
 },
 "nbformat": 4,
 "nbformat_minor": 2
}
