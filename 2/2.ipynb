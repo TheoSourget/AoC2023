{
 "cells": [
  {
   "cell_type": "code",
   "execution_count": 4,
   "metadata": {},
   "outputs": [],
   "source": [
    "import re"
   ]
  },
  {
   "cell_type": "code",
   "execution_count": 1,
   "metadata": {},
   "outputs": [],
   "source": [
    "max_number = {\n",
    "    \"red\":12,\n",
    "    \"green\":13,\n",
    "    \"blue\":14\n",
    "}"
   ]
  },
  {
   "cell_type": "markdown",
   "metadata": {},
   "source": [
    "## Part 1"
   ]
  },
  {
   "cell_type": "code",
   "execution_count": 43,
   "metadata": {},
   "outputs": [
    {
     "data": {
      "text/plain": [
       "2406"
      ]
     },
     "execution_count": 43,
     "metadata": {},
     "output_type": "execute_result"
    }
   ],
   "source": [
    "sum_possible = 0\n",
    "with open(\"input\") as input_file:\n",
    "    for l in input_file.readlines():\n",
    "        possible = True\n",
    "        id = re.match(\"Game (\\\\d+)\",l).group(1)\n",
    "        values = l.removeprefix(f\"Game {id}:\")\n",
    "        \n",
    "        for match in re.finditer(\"(\\\\d+) ((blue)|(red)|(green)),?\",values):\n",
    "            if int(match.groups()[0]) > max_number[match.groups()[1]]:\n",
    "                possible = False\n",
    "                break\n",
    "        if possible:\n",
    "            sum_possible += int(id)\n",
    "sum_possible"
   ]
  },
  {
   "cell_type": "markdown",
   "metadata": {},
   "source": [
    "## Part 2"
   ]
  },
  {
   "cell_type": "code",
   "execution_count": 47,
   "metadata": {},
   "outputs": [
    {
     "data": {
      "text/plain": [
       "78375"
      ]
     },
     "execution_count": 47,
     "metadata": {},
     "output_type": "execute_result"
    }
   ],
   "source": [
    "sum_power = 0\n",
    "with open(\"input\") as input_file:\n",
    "    for l in input_file.readlines():\n",
    "        min_cubes = {\n",
    "            \"red\":0,\n",
    "            \"blue\":0,\n",
    "            \"green\":0,\n",
    "        }\n",
    "\n",
    "        id = re.match(\"Game (\\\\d+)\",l).group(1)\n",
    "        values = l.removeprefix(f\"Game {id}:\")\n",
    "        \n",
    "        for match in re.finditer(\"(\\\\d+) ((blue)|(red)|(green)),?\",values):\n",
    "            min_cubes[match.groups()[1]] = max(min_cubes[match.groups()[1]],int(match.groups()[0]))\n",
    "        sum_power += min_cubes[\"blue\"]*min_cubes[\"red\"]*min_cubes[\"green\"]\n",
    "sum_power"
   ]
  }
 ],
 "metadata": {
  "kernelspec": {
   "display_name": "PublicDataset",
   "language": "python",
   "name": "python3"
  },
  "language_info": {
   "codemirror_mode": {
    "name": "ipython",
    "version": 3
   },
   "file_extension": ".py",
   "mimetype": "text/x-python",
   "name": "python",
   "nbconvert_exporter": "python",
   "pygments_lexer": "ipython3",
   "version": "3.12.0"
  }
 },
 "nbformat": 4,
 "nbformat_minor": 2
}
