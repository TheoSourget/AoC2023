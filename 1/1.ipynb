{
 "cells": [
  {
   "cell_type": "markdown",
   "metadata": {},
   "source": [
    "## With only int"
   ]
  },
  {
   "cell_type": "code",
   "execution_count": 8,
   "metadata": {},
   "outputs": [
    {
     "name": "stdout",
     "output_type": "stream",
     "text": [
      "54927\n"
     ]
    }
   ],
   "source": [
    "sum_input = 0\n",
    "with open(\"./input\") as f:\n",
    "    for l in f.readlines():\n",
    "        numbers = []\n",
    "        for c in l:\n",
    "            if c.isnumeric():\n",
    "                numbers.append(c)\n",
    "        number = numbers[0]+numbers[-1]\n",
    "        sum_input += (int(number))\n",
    "print(sum_input)"
   ]
  },
  {
   "cell_type": "markdown",
   "metadata": {},
   "source": [
    "## With text"
   ]
  },
  {
   "cell_type": "code",
   "execution_count": 68,
   "metadata": {},
   "outputs": [
    {
     "name": "stdout",
     "output_type": "stream",
     "text": [
      "54581\n"
     ]
    }
   ],
   "source": [
    "import re\n",
    "number_to_text = {\n",
    "    \"zero\":\"0\",\n",
    "    \"one\":\"1\",\n",
    "    \"two\":\"2\",\n",
    "    \"three\":\"3\",\n",
    "    \"four\":\"4\",\n",
    "    \"five\":\"5\",\n",
    "    \"six\":\"6\",\n",
    "    \"seven\":\"7\",\n",
    "    \"eight\":\"8\",\n",
    "    \"nine\":\"9\"\n",
    "}\n",
    "\n",
    "list_text_number = [f\"(?=({n}))\" for n in number_to_text]\n",
    "list_int_number = [f\"(?=({n}))\" for n in range(10)]\n",
    "list_text_number.extend(list_int_number)\n",
    "numbers_re = \"|\".join(list_text_number)\n",
    "#complete_regex = f\"(?=({numbers_re}))\"\n",
    "regex = re.compile(\"|\".join(list_text_number))\n",
    "\n",
    "sum_input = 0\n",
    "with open(\"./input\") as f:\n",
    "    for l in f.readlines():\n",
    "        numbers = []\n",
    "        for matched_numbers in regex.finditer(l):\n",
    "            match = \"\".join([x for x in matched_numbers.groups() if x != None])\n",
    "            if match in number_to_text:\n",
    "                numbers.append(number_to_text[match])\n",
    "            else:\n",
    "                numbers.append(match)\n",
    "        number = numbers[0]+numbers[-1]\n",
    "        sum_input += (int(number))\n",
    "print(sum_input)"
   ]
  }
 ],
 "metadata": {
  "kernelspec": {
   "display_name": "PublicDataset",
   "language": "python",
   "name": "python3"
  },
  "language_info": {
   "codemirror_mode": {
    "name": "ipython",
    "version": 3
   },
   "file_extension": ".py",
   "mimetype": "text/x-python",
   "name": "python",
   "nbconvert_exporter": "python",
   "pygments_lexer": "ipython3",
   "version": "3.12.0"
  }
 },
 "nbformat": 4,
 "nbformat_minor": 2
}
