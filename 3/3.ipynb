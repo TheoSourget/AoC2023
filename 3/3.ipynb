{
 "cells": [
  {
   "cell_type": "markdown",
   "metadata": {},
   "source": [
    "## Part 1"
   ]
  },
  {
   "cell_type": "code",
   "execution_count": 48,
   "metadata": {},
   "outputs": [],
   "source": [
    "import numpy as np\n",
    "import re"
   ]
  },
  {
   "cell_type": "code",
   "execution_count": 69,
   "metadata": {},
   "outputs": [
    {
     "data": {
      "text/plain": [
       "521515"
      ]
     },
     "execution_count": 69,
     "metadata": {},
     "output_type": "execute_result"
    }
   ],
   "source": [
    "#Construct input\n",
    "with open(\"input\") as input_file:\n",
    "    symbols = []\n",
    "    for line in input_file.readlines():\n",
    "        line_split = [*line]\n",
    "        if \"\\n\" in line_split:\n",
    "            line_split.remove(\"\\n\")\n",
    "        symbols.append([line_split][0])\n",
    "symbols = np.array(symbols)\n",
    "    \n",
    "#Search solution\n",
    "sum_part = 0\n",
    "i = 0\n",
    "while i < len(symbols):\n",
    "    l = symbols[i]\n",
    "    j = 0\n",
    "    while j < len(symbols[0]):\n",
    "        #Search for max\n",
    "        c = symbols[i,j]\n",
    "        if symbols[i,j].isnumeric():\n",
    "\n",
    "            if (j+1 < symbols.shape[1]) & (symbols[i,j+1].isnumeric()):\n",
    "                if (j+2 < symbols.shape[1]) & (symbols[i,j+2].isnumeric()):\n",
    "                    max_j = j+2\n",
    "                else:\n",
    "                    max_j = j+1\n",
    "            else:\n",
    "                max_j = j\n",
    "\n",
    "            slice_idx = (max(i-1,0),min(i+2,len(symbols)))\n",
    "            slice_idy = (max(j-1,0),min(max_j+2,len(symbols[0])))\n",
    "            slice_symb = symbols[slice_idx[0]:slice_idx[1],slice_idy[0]:slice_idy[1]]\n",
    "            if any([((not slice_symb[i,j].isnumeric()) & (slice_symb[i,j] != \".\")) for i in range(len(slice_symb)) for j in range(len(slice_symb[0]))]):\n",
    "                sum_part += int(\"\".join(symbols[i,j:max_j+1]))\n",
    "            \n",
    "            j = max_j+1\n",
    "        else:\n",
    "            j+=1\n",
    "    \n",
    "    i += 1\n",
    "sum_part"
   ]
  },
  {
   "cell_type": "markdown",
   "metadata": {},
   "source": [
    "## Part 2"
   ]
  },
  {
   "cell_type": "code",
   "execution_count": 120,
   "metadata": {},
   "outputs": [
    {
     "data": {
      "text/plain": [
       "69527306"
      ]
     },
     "execution_count": 120,
     "metadata": {},
     "output_type": "execute_result"
    }
   ],
   "source": [
    "#Construct input\n",
    "with open(\"input\") as input_file:\n",
    "    symbols = []\n",
    "    for line in input_file.readlines():\n",
    "        line_split = [*line]\n",
    "        if \"\\n\" in line_split:\n",
    "            line_split.remove(\"\\n\")\n",
    "        symbols.append([line_split][0])\n",
    "symbols = np.array(symbols)\n",
    "\n",
    "star_loc = np.where(symbols == \"*\")\n",
    "gears = [(star_loc[0][i],star_loc[1][i]) for i in range(len(star_loc[0]))]\n",
    "\n",
    "gears_numbers = {g:[] for g in gears}\n",
    "#Search solution\n",
    "i = 0\n",
    "while i < len(symbols):\n",
    "    l = symbols[i]\n",
    "    j = 0\n",
    "    while j < len(symbols[0]):\n",
    "        #Search for max\n",
    "        c = symbols[i,j]\n",
    "        if symbols[i,j].isnumeric():\n",
    "\n",
    "            if (j+1 < symbols.shape[1]) & (symbols[i,j+1].isnumeric()):\n",
    "                if (j+2 < symbols.shape[1]) & (symbols[i,j+2].isnumeric()):\n",
    "                    max_j = j+2\n",
    "                else:\n",
    "                    max_j = j+1\n",
    "            else:\n",
    "                max_j = j\n",
    "\n",
    "            slice_idx = (max(i-1,0),min(i+2,len(symbols)))\n",
    "            slice_idy = (max(j-1,0),min(max_j+2,len(symbols[0])))\n",
    "            slice_symb = symbols[slice_idx[0]:slice_idx[1],slice_idy[0]:slice_idy[1]]\n",
    "            if any([(slice_symb[i,j] == \"*\") for i in range(len(slice_symb)) for j in range(len(slice_symb[0]))]):\n",
    "                for gear in gears:\n",
    "                    if (gear[0] >= max(i-1,0)) & (gear[0] <= min(i+1,len(symbols)-1)) & (gear[1] >= max(j-1,0)) & (gear[1] <= min(max_j+1,len(symbols)-1)):\n",
    "                        gears_numbers[gear].append(int(\"\".join(symbols[i,j:max_j+1])))\n",
    "            \n",
    "            j = max_j+1\n",
    "        else:\n",
    "            j+=1\n",
    "    i += 1\n",
    "\n",
    "\n",
    "sum_factor = 0\n",
    "for gear in gears_numbers:\n",
    "    if len(gears_numbers[gear]) == 2:\n",
    "        sum_factor += gears_numbers[gear][0] * gears_numbers[gear][1]\n",
    "sum_factor"
   ]
  },
  {
   "cell_type": "code",
   "execution_count": 118,
   "metadata": {},
   "outputs": [
    {
     "data": {
      "text/plain": [
       "{(1, 3): [467, 35], (4, 3): [617], (8, 5): [755, 598]}"
      ]
     },
     "execution_count": 118,
     "metadata": {},
     "output_type": "execute_result"
    }
   ],
   "source": [
    "gears_numbers"
   ]
  }
 ],
 "metadata": {
  "kernelspec": {
   "display_name": "PublicDataset",
   "language": "python",
   "name": "python3"
  },
  "language_info": {
   "codemirror_mode": {
    "name": "ipython",
    "version": 3
   },
   "file_extension": ".py",
   "mimetype": "text/x-python",
   "name": "python",
   "nbconvert_exporter": "python",
   "pygments_lexer": "ipython3",
   "version": "3.12.0"
  }
 },
 "nbformat": 4,
 "nbformat_minor": 2
}
